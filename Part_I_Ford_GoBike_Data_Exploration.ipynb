{
 "cells": [
  {
   "cell_type": "markdown",
   "metadata": {},
   "source": [
    "# Ford GoBike System Data Exploration\n",
    "## by Ayooluwa Jesuniyi\n",
    "\n",
    "## Introduction\n",
    "> This notebook explores a dataset containing information of a bike-sharing system of approximately 183,412 rides covering the greater San Francisco Bay area in 2019. The dataset being used for this project is the Ford GoBike System Dataset, provided by Udacity.\n",
    "\n",
    "\n",
    "## Preliminary Wrangling\n"
   ]
  },
  {
   "cell_type": "code",
   "execution_count": 1,
   "metadata": {},
   "outputs": [],
   "source": [
    "# import all packages and set plots to be embedded inline\n",
    "import numpy as np\n",
    "import pandas as pd\n",
    "import matplotlib.pyplot as plt\n",
    "import seaborn as sb\n",
    "import calendar\n",
    "from datetime import datetime\n",
    "\n",
    "%matplotlib inline"
   ]
  },
  {
   "cell_type": "markdown",
   "metadata": {},
   "source": [
    "\n",
    "\n",
    "#### Gather"
   ]
  },
  {
   "cell_type": "code",
   "execution_count": 2,
   "metadata": {},
   "outputs": [],
   "source": [
    "# load adta into pandas dataframe\n",
    "gobike = pd.read_csv('201902-fordgobike-tripdata.csv')"
   ]
  },
  {
   "cell_type": "markdown",
   "metadata": {},
   "source": [
    "#### Assessing"
   ]
  },
  {
   "cell_type": "code",
   "execution_count": 3,
   "metadata": {},
   "outputs": [
    {
     "name": "stdout",
     "output_type": "stream",
     "text": [
      "(183412, 16)\n"
     ]
    }
   ],
   "source": [
    "# checking the shape of the dataset\n",
    "print(gobike.shape)"
   ]
  },
  {
   "cell_type": "code",
   "execution_count": 4,
   "metadata": {},
   "outputs": [
    {
     "name": "stdout",
     "output_type": "stream",
     "text": [
      "duration_sec                 int64\n",
      "start_time                  object\n",
      "end_time                    object\n",
      "start_station_id           float64\n",
      "start_station_name          object\n",
      "start_station_latitude     float64\n",
      "start_station_longitude    float64\n",
      "end_station_id             float64\n",
      "end_station_name            object\n",
      "end_station_latitude       float64\n",
      "end_station_longitude      float64\n",
      "bike_id                      int64\n",
      "user_type                   object\n",
      "member_birth_year          float64\n",
      "member_gender               object\n",
      "bike_share_for_all_trip     object\n",
      "dtype: object\n"
     ]
    }
   ],
   "source": [
    "# overview of the datatype of each column in the dataset\n",
    "print(gobike.dtypes)"
   ]
  },
  {
   "cell_type": "code",
   "execution_count": 5,
   "metadata": {
    "scrolled": false
   },
   "outputs": [
    {
     "data": {
      "text/plain": [
       "duration_sec                  0\n",
       "start_time                    0\n",
       "end_time                      0\n",
       "start_station_id            197\n",
       "start_station_name          197\n",
       "start_station_latitude        0\n",
       "start_station_longitude       0\n",
       "end_station_id              197\n",
       "end_station_name            197\n",
       "end_station_latitude          0\n",
       "end_station_longitude         0\n",
       "bike_id                       0\n",
       "user_type                     0\n",
       "member_birth_year          8265\n",
       "member_gender              8265\n",
       "bike_share_for_all_trip       0\n",
       "dtype: int64"
      ]
     },
     "execution_count": 5,
     "metadata": {},
     "output_type": "execute_result"
    }
   ],
   "source": [
    "# checking null values count in each column in the dataset\n",
    "gobike.isnull().sum()"
   ]
  },
  {
   "cell_type": "code",
   "execution_count": 6,
   "metadata": {
    "scrolled": false
   },
   "outputs": [
    {
     "data": {
      "text/html": [
       "<div>\n",
       "<style scoped>\n",
       "    .dataframe tbody tr th:only-of-type {\n",
       "        vertical-align: middle;\n",
       "    }\n",
       "\n",
       "    .dataframe tbody tr th {\n",
       "        vertical-align: top;\n",
       "    }\n",
       "\n",
       "    .dataframe thead th {\n",
       "        text-align: right;\n",
       "    }\n",
       "</style>\n",
       "<table border=\"1\" class=\"dataframe\">\n",
       "  <thead>\n",
       "    <tr style=\"text-align: right;\">\n",
       "      <th></th>\n",
       "      <th>duration_sec</th>\n",
       "      <th>start_time</th>\n",
       "      <th>end_time</th>\n",
       "      <th>start_station_id</th>\n",
       "      <th>start_station_name</th>\n",
       "      <th>start_station_latitude</th>\n",
       "      <th>start_station_longitude</th>\n",
       "      <th>end_station_id</th>\n",
       "      <th>end_station_name</th>\n",
       "      <th>end_station_latitude</th>\n",
       "      <th>end_station_longitude</th>\n",
       "      <th>bike_id</th>\n",
       "      <th>user_type</th>\n",
       "      <th>member_birth_year</th>\n",
       "      <th>member_gender</th>\n",
       "      <th>bike_share_for_all_trip</th>\n",
       "    </tr>\n",
       "  </thead>\n",
       "  <tbody>\n",
       "    <tr>\n",
       "      <th>0</th>\n",
       "      <td>52185</td>\n",
       "      <td>2019-02-28 17:32:10.1450</td>\n",
       "      <td>2019-03-01 08:01:55.9750</td>\n",
       "      <td>21.0</td>\n",
       "      <td>Montgomery St BART Station (Market St at 2nd St)</td>\n",
       "      <td>37.789625</td>\n",
       "      <td>-122.400811</td>\n",
       "      <td>13.0</td>\n",
       "      <td>Commercial St at Montgomery St</td>\n",
       "      <td>37.794231</td>\n",
       "      <td>-122.402923</td>\n",
       "      <td>4902</td>\n",
       "      <td>Customer</td>\n",
       "      <td>1984.0</td>\n",
       "      <td>Male</td>\n",
       "      <td>No</td>\n",
       "    </tr>\n",
       "    <tr>\n",
       "      <th>1</th>\n",
       "      <td>42521</td>\n",
       "      <td>2019-02-28 18:53:21.7890</td>\n",
       "      <td>2019-03-01 06:42:03.0560</td>\n",
       "      <td>23.0</td>\n",
       "      <td>The Embarcadero at Steuart St</td>\n",
       "      <td>37.791464</td>\n",
       "      <td>-122.391034</td>\n",
       "      <td>81.0</td>\n",
       "      <td>Berry St at 4th St</td>\n",
       "      <td>37.775880</td>\n",
       "      <td>-122.393170</td>\n",
       "      <td>2535</td>\n",
       "      <td>Customer</td>\n",
       "      <td>NaN</td>\n",
       "      <td>NaN</td>\n",
       "      <td>No</td>\n",
       "    </tr>\n",
       "    <tr>\n",
       "      <th>2</th>\n",
       "      <td>61854</td>\n",
       "      <td>2019-02-28 12:13:13.2180</td>\n",
       "      <td>2019-03-01 05:24:08.1460</td>\n",
       "      <td>86.0</td>\n",
       "      <td>Market St at Dolores St</td>\n",
       "      <td>37.769305</td>\n",
       "      <td>-122.426826</td>\n",
       "      <td>3.0</td>\n",
       "      <td>Powell St BART Station (Market St at 4th St)</td>\n",
       "      <td>37.786375</td>\n",
       "      <td>-122.404904</td>\n",
       "      <td>5905</td>\n",
       "      <td>Customer</td>\n",
       "      <td>1972.0</td>\n",
       "      <td>Male</td>\n",
       "      <td>No</td>\n",
       "    </tr>\n",
       "    <tr>\n",
       "      <th>3</th>\n",
       "      <td>36490</td>\n",
       "      <td>2019-02-28 17:54:26.0100</td>\n",
       "      <td>2019-03-01 04:02:36.8420</td>\n",
       "      <td>375.0</td>\n",
       "      <td>Grove St at Masonic Ave</td>\n",
       "      <td>37.774836</td>\n",
       "      <td>-122.446546</td>\n",
       "      <td>70.0</td>\n",
       "      <td>Central Ave at Fell St</td>\n",
       "      <td>37.773311</td>\n",
       "      <td>-122.444293</td>\n",
       "      <td>6638</td>\n",
       "      <td>Subscriber</td>\n",
       "      <td>1989.0</td>\n",
       "      <td>Other</td>\n",
       "      <td>No</td>\n",
       "    </tr>\n",
       "    <tr>\n",
       "      <th>4</th>\n",
       "      <td>1585</td>\n",
       "      <td>2019-02-28 23:54:18.5490</td>\n",
       "      <td>2019-03-01 00:20:44.0740</td>\n",
       "      <td>7.0</td>\n",
       "      <td>Frank H Ogawa Plaza</td>\n",
       "      <td>37.804562</td>\n",
       "      <td>-122.271738</td>\n",
       "      <td>222.0</td>\n",
       "      <td>10th Ave at E 15th St</td>\n",
       "      <td>37.792714</td>\n",
       "      <td>-122.248780</td>\n",
       "      <td>4898</td>\n",
       "      <td>Subscriber</td>\n",
       "      <td>1974.0</td>\n",
       "      <td>Male</td>\n",
       "      <td>Yes</td>\n",
       "    </tr>\n",
       "    <tr>\n",
       "      <th>5</th>\n",
       "      <td>1793</td>\n",
       "      <td>2019-02-28 23:49:58.6320</td>\n",
       "      <td>2019-03-01 00:19:51.7600</td>\n",
       "      <td>93.0</td>\n",
       "      <td>4th St at Mission Bay Blvd S</td>\n",
       "      <td>37.770407</td>\n",
       "      <td>-122.391198</td>\n",
       "      <td>323.0</td>\n",
       "      <td>Broadway at Kearny</td>\n",
       "      <td>37.798014</td>\n",
       "      <td>-122.405950</td>\n",
       "      <td>5200</td>\n",
       "      <td>Subscriber</td>\n",
       "      <td>1959.0</td>\n",
       "      <td>Male</td>\n",
       "      <td>No</td>\n",
       "    </tr>\n",
       "    <tr>\n",
       "      <th>6</th>\n",
       "      <td>1147</td>\n",
       "      <td>2019-02-28 23:55:35.1040</td>\n",
       "      <td>2019-03-01 00:14:42.5880</td>\n",
       "      <td>300.0</td>\n",
       "      <td>Palm St at Willow St</td>\n",
       "      <td>37.317298</td>\n",
       "      <td>-121.884995</td>\n",
       "      <td>312.0</td>\n",
       "      <td>San Jose Diridon Station</td>\n",
       "      <td>37.329732</td>\n",
       "      <td>-121.901782</td>\n",
       "      <td>3803</td>\n",
       "      <td>Subscriber</td>\n",
       "      <td>1983.0</td>\n",
       "      <td>Female</td>\n",
       "      <td>No</td>\n",
       "    </tr>\n",
       "    <tr>\n",
       "      <th>7</th>\n",
       "      <td>1615</td>\n",
       "      <td>2019-02-28 23:41:06.7660</td>\n",
       "      <td>2019-03-01 00:08:02.7560</td>\n",
       "      <td>10.0</td>\n",
       "      <td>Washington St at Kearny St</td>\n",
       "      <td>37.795393</td>\n",
       "      <td>-122.404770</td>\n",
       "      <td>127.0</td>\n",
       "      <td>Valencia St at 21st St</td>\n",
       "      <td>37.756708</td>\n",
       "      <td>-122.421025</td>\n",
       "      <td>6329</td>\n",
       "      <td>Subscriber</td>\n",
       "      <td>1989.0</td>\n",
       "      <td>Male</td>\n",
       "      <td>No</td>\n",
       "    </tr>\n",
       "    <tr>\n",
       "      <th>8</th>\n",
       "      <td>1570</td>\n",
       "      <td>2019-02-28 23:41:48.7900</td>\n",
       "      <td>2019-03-01 00:07:59.7150</td>\n",
       "      <td>10.0</td>\n",
       "      <td>Washington St at Kearny St</td>\n",
       "      <td>37.795393</td>\n",
       "      <td>-122.404770</td>\n",
       "      <td>127.0</td>\n",
       "      <td>Valencia St at 21st St</td>\n",
       "      <td>37.756708</td>\n",
       "      <td>-122.421025</td>\n",
       "      <td>6548</td>\n",
       "      <td>Subscriber</td>\n",
       "      <td>1988.0</td>\n",
       "      <td>Other</td>\n",
       "      <td>No</td>\n",
       "    </tr>\n",
       "    <tr>\n",
       "      <th>9</th>\n",
       "      <td>1049</td>\n",
       "      <td>2019-02-28 23:49:47.6990</td>\n",
       "      <td>2019-03-01 00:07:17.0250</td>\n",
       "      <td>19.0</td>\n",
       "      <td>Post St at Kearny St</td>\n",
       "      <td>37.788975</td>\n",
       "      <td>-122.403452</td>\n",
       "      <td>121.0</td>\n",
       "      <td>Mission Playground</td>\n",
       "      <td>37.759210</td>\n",
       "      <td>-122.421339</td>\n",
       "      <td>6488</td>\n",
       "      <td>Subscriber</td>\n",
       "      <td>1992.0</td>\n",
       "      <td>Male</td>\n",
       "      <td>No</td>\n",
       "    </tr>\n",
       "  </tbody>\n",
       "</table>\n",
       "</div>"
      ],
      "text/plain": [
       "   duration_sec                start_time                  end_time  \\\n",
       "0         52185  2019-02-28 17:32:10.1450  2019-03-01 08:01:55.9750   \n",
       "1         42521  2019-02-28 18:53:21.7890  2019-03-01 06:42:03.0560   \n",
       "2         61854  2019-02-28 12:13:13.2180  2019-03-01 05:24:08.1460   \n",
       "3         36490  2019-02-28 17:54:26.0100  2019-03-01 04:02:36.8420   \n",
       "4          1585  2019-02-28 23:54:18.5490  2019-03-01 00:20:44.0740   \n",
       "5          1793  2019-02-28 23:49:58.6320  2019-03-01 00:19:51.7600   \n",
       "6          1147  2019-02-28 23:55:35.1040  2019-03-01 00:14:42.5880   \n",
       "7          1615  2019-02-28 23:41:06.7660  2019-03-01 00:08:02.7560   \n",
       "8          1570  2019-02-28 23:41:48.7900  2019-03-01 00:07:59.7150   \n",
       "9          1049  2019-02-28 23:49:47.6990  2019-03-01 00:07:17.0250   \n",
       "\n",
       "   start_station_id                                start_station_name  \\\n",
       "0              21.0  Montgomery St BART Station (Market St at 2nd St)   \n",
       "1              23.0                     The Embarcadero at Steuart St   \n",
       "2              86.0                           Market St at Dolores St   \n",
       "3             375.0                           Grove St at Masonic Ave   \n",
       "4               7.0                               Frank H Ogawa Plaza   \n",
       "5              93.0                      4th St at Mission Bay Blvd S   \n",
       "6             300.0                              Palm St at Willow St   \n",
       "7              10.0                        Washington St at Kearny St   \n",
       "8              10.0                        Washington St at Kearny St   \n",
       "9              19.0                              Post St at Kearny St   \n",
       "\n",
       "   start_station_latitude  start_station_longitude  end_station_id  \\\n",
       "0               37.789625              -122.400811            13.0   \n",
       "1               37.791464              -122.391034            81.0   \n",
       "2               37.769305              -122.426826             3.0   \n",
       "3               37.774836              -122.446546            70.0   \n",
       "4               37.804562              -122.271738           222.0   \n",
       "5               37.770407              -122.391198           323.0   \n",
       "6               37.317298              -121.884995           312.0   \n",
       "7               37.795393              -122.404770           127.0   \n",
       "8               37.795393              -122.404770           127.0   \n",
       "9               37.788975              -122.403452           121.0   \n",
       "\n",
       "                               end_station_name  end_station_latitude  \\\n",
       "0                Commercial St at Montgomery St             37.794231   \n",
       "1                            Berry St at 4th St             37.775880   \n",
       "2  Powell St BART Station (Market St at 4th St)             37.786375   \n",
       "3                        Central Ave at Fell St             37.773311   \n",
       "4                         10th Ave at E 15th St             37.792714   \n",
       "5                            Broadway at Kearny             37.798014   \n",
       "6                      San Jose Diridon Station             37.329732   \n",
       "7                        Valencia St at 21st St             37.756708   \n",
       "8                        Valencia St at 21st St             37.756708   \n",
       "9                            Mission Playground             37.759210   \n",
       "\n",
       "   end_station_longitude  bike_id   user_type  member_birth_year  \\\n",
       "0            -122.402923     4902    Customer             1984.0   \n",
       "1            -122.393170     2535    Customer                NaN   \n",
       "2            -122.404904     5905    Customer             1972.0   \n",
       "3            -122.444293     6638  Subscriber             1989.0   \n",
       "4            -122.248780     4898  Subscriber             1974.0   \n",
       "5            -122.405950     5200  Subscriber             1959.0   \n",
       "6            -121.901782     3803  Subscriber             1983.0   \n",
       "7            -122.421025     6329  Subscriber             1989.0   \n",
       "8            -122.421025     6548  Subscriber             1988.0   \n",
       "9            -122.421339     6488  Subscriber             1992.0   \n",
       "\n",
       "  member_gender bike_share_for_all_trip  \n",
       "0          Male                      No  \n",
       "1           NaN                      No  \n",
       "2          Male                      No  \n",
       "3         Other                      No  \n",
       "4          Male                     Yes  \n",
       "5          Male                      No  \n",
       "6        Female                      No  \n",
       "7          Male                      No  \n",
       "8         Other                      No  \n",
       "9          Male                      No  "
      ]
     },
     "execution_count": 6,
     "metadata": {},
     "output_type": "execute_result"
    }
   ],
   "source": [
    "gobike.head(10)"
   ]
  },
  {
   "cell_type": "code",
   "execution_count": 7,
   "metadata": {
    "scrolled": false
   },
   "outputs": [
    {
     "data": {
      "text/html": [
       "<div>\n",
       "<style scoped>\n",
       "    .dataframe tbody tr th:only-of-type {\n",
       "        vertical-align: middle;\n",
       "    }\n",
       "\n",
       "    .dataframe tbody tr th {\n",
       "        vertical-align: top;\n",
       "    }\n",
       "\n",
       "    .dataframe thead th {\n",
       "        text-align: right;\n",
       "    }\n",
       "</style>\n",
       "<table border=\"1\" class=\"dataframe\">\n",
       "  <thead>\n",
       "    <tr style=\"text-align: right;\">\n",
       "      <th></th>\n",
       "      <th>duration_sec</th>\n",
       "      <th>start_time</th>\n",
       "      <th>end_time</th>\n",
       "      <th>start_station_id</th>\n",
       "      <th>start_station_name</th>\n",
       "      <th>start_station_latitude</th>\n",
       "      <th>start_station_longitude</th>\n",
       "      <th>end_station_id</th>\n",
       "      <th>end_station_name</th>\n",
       "      <th>end_station_latitude</th>\n",
       "      <th>end_station_longitude</th>\n",
       "      <th>bike_id</th>\n",
       "      <th>user_type</th>\n",
       "      <th>member_birth_year</th>\n",
       "      <th>member_gender</th>\n",
       "      <th>bike_share_for_all_trip</th>\n",
       "    </tr>\n",
       "  </thead>\n",
       "  <tbody>\n",
       "    <tr>\n",
       "      <th>183402</th>\n",
       "      <td>122</td>\n",
       "      <td>2019-02-01 00:17:32.2580</td>\n",
       "      <td>2019-02-01 00:19:34.9380</td>\n",
       "      <td>119.0</td>\n",
       "      <td>18th St at Noe St</td>\n",
       "      <td>37.761047</td>\n",
       "      <td>-122.432642</td>\n",
       "      <td>120.0</td>\n",
       "      <td>Mission Dolores Park</td>\n",
       "      <td>37.761420</td>\n",
       "      <td>-122.426435</td>\n",
       "      <td>4326</td>\n",
       "      <td>Subscriber</td>\n",
       "      <td>NaN</td>\n",
       "      <td>NaN</td>\n",
       "      <td>No</td>\n",
       "    </tr>\n",
       "    <tr>\n",
       "      <th>183403</th>\n",
       "      <td>249</td>\n",
       "      <td>2019-02-01 00:15:12.0670</td>\n",
       "      <td>2019-02-01 00:19:21.6990</td>\n",
       "      <td>256.0</td>\n",
       "      <td>Hearst Ave at Euclid Ave</td>\n",
       "      <td>37.875112</td>\n",
       "      <td>-122.260553</td>\n",
       "      <td>247.0</td>\n",
       "      <td>Fulton St at Bancroft Way</td>\n",
       "      <td>37.867789</td>\n",
       "      <td>-122.265896</td>\n",
       "      <td>4642</td>\n",
       "      <td>Subscriber</td>\n",
       "      <td>2000.0</td>\n",
       "      <td>Male</td>\n",
       "      <td>No</td>\n",
       "    </tr>\n",
       "    <tr>\n",
       "      <th>183404</th>\n",
       "      <td>256</td>\n",
       "      <td>2019-02-01 00:12:50.5540</td>\n",
       "      <td>2019-02-01 00:17:07.3620</td>\n",
       "      <td>241.0</td>\n",
       "      <td>Ashby BART Station</td>\n",
       "      <td>37.852477</td>\n",
       "      <td>-122.270213</td>\n",
       "      <td>248.0</td>\n",
       "      <td>Telegraph Ave at Ashby Ave</td>\n",
       "      <td>37.855956</td>\n",
       "      <td>-122.259795</td>\n",
       "      <td>4845</td>\n",
       "      <td>Subscriber</td>\n",
       "      <td>1980.0</td>\n",
       "      <td>Male</td>\n",
       "      <td>Yes</td>\n",
       "    </tr>\n",
       "    <tr>\n",
       "      <th>183405</th>\n",
       "      <td>111</td>\n",
       "      <td>2019-02-01 00:14:49.8740</td>\n",
       "      <td>2019-02-01 00:16:41.3010</td>\n",
       "      <td>324.0</td>\n",
       "      <td>Union Square (Powell St at Post St)</td>\n",
       "      <td>37.788300</td>\n",
       "      <td>-122.408531</td>\n",
       "      <td>19.0</td>\n",
       "      <td>Post St at Kearny St</td>\n",
       "      <td>37.788975</td>\n",
       "      <td>-122.403452</td>\n",
       "      <td>4832</td>\n",
       "      <td>Subscriber</td>\n",
       "      <td>1984.0</td>\n",
       "      <td>Male</td>\n",
       "      <td>No</td>\n",
       "    </tr>\n",
       "    <tr>\n",
       "      <th>183406</th>\n",
       "      <td>706</td>\n",
       "      <td>2019-02-01 00:04:40.6160</td>\n",
       "      <td>2019-02-01 00:16:27.0800</td>\n",
       "      <td>138.0</td>\n",
       "      <td>Jersey St at Church St</td>\n",
       "      <td>37.750900</td>\n",
       "      <td>-122.427411</td>\n",
       "      <td>78.0</td>\n",
       "      <td>Folsom St at 9th St</td>\n",
       "      <td>37.773717</td>\n",
       "      <td>-122.411647</td>\n",
       "      <td>5017</td>\n",
       "      <td>Subscriber</td>\n",
       "      <td>1988.0</td>\n",
       "      <td>Male</td>\n",
       "      <td>No</td>\n",
       "    </tr>\n",
       "    <tr>\n",
       "      <th>183407</th>\n",
       "      <td>480</td>\n",
       "      <td>2019-02-01 00:04:49.7240</td>\n",
       "      <td>2019-02-01 00:12:50.0340</td>\n",
       "      <td>27.0</td>\n",
       "      <td>Beale St at Harrison St</td>\n",
       "      <td>37.788059</td>\n",
       "      <td>-122.391865</td>\n",
       "      <td>324.0</td>\n",
       "      <td>Union Square (Powell St at Post St)</td>\n",
       "      <td>37.788300</td>\n",
       "      <td>-122.408531</td>\n",
       "      <td>4832</td>\n",
       "      <td>Subscriber</td>\n",
       "      <td>1996.0</td>\n",
       "      <td>Male</td>\n",
       "      <td>No</td>\n",
       "    </tr>\n",
       "    <tr>\n",
       "      <th>183408</th>\n",
       "      <td>313</td>\n",
       "      <td>2019-02-01 00:05:34.7440</td>\n",
       "      <td>2019-02-01 00:10:48.5020</td>\n",
       "      <td>21.0</td>\n",
       "      <td>Montgomery St BART Station (Market St at 2nd St)</td>\n",
       "      <td>37.789625</td>\n",
       "      <td>-122.400811</td>\n",
       "      <td>66.0</td>\n",
       "      <td>3rd St at Townsend St</td>\n",
       "      <td>37.778742</td>\n",
       "      <td>-122.392741</td>\n",
       "      <td>4960</td>\n",
       "      <td>Subscriber</td>\n",
       "      <td>1984.0</td>\n",
       "      <td>Male</td>\n",
       "      <td>No</td>\n",
       "    </tr>\n",
       "    <tr>\n",
       "      <th>183409</th>\n",
       "      <td>141</td>\n",
       "      <td>2019-02-01 00:06:05.5490</td>\n",
       "      <td>2019-02-01 00:08:27.2200</td>\n",
       "      <td>278.0</td>\n",
       "      <td>The Alameda at Bush St</td>\n",
       "      <td>37.331932</td>\n",
       "      <td>-121.904888</td>\n",
       "      <td>277.0</td>\n",
       "      <td>Morrison Ave at Julian St</td>\n",
       "      <td>37.333658</td>\n",
       "      <td>-121.908586</td>\n",
       "      <td>3824</td>\n",
       "      <td>Subscriber</td>\n",
       "      <td>1990.0</td>\n",
       "      <td>Male</td>\n",
       "      <td>Yes</td>\n",
       "    </tr>\n",
       "    <tr>\n",
       "      <th>183410</th>\n",
       "      <td>139</td>\n",
       "      <td>2019-02-01 00:05:34.3600</td>\n",
       "      <td>2019-02-01 00:07:54.2870</td>\n",
       "      <td>220.0</td>\n",
       "      <td>San Pablo Ave at MLK Jr Way</td>\n",
       "      <td>37.811351</td>\n",
       "      <td>-122.273422</td>\n",
       "      <td>216.0</td>\n",
       "      <td>San Pablo Ave at 27th St</td>\n",
       "      <td>37.817827</td>\n",
       "      <td>-122.275698</td>\n",
       "      <td>5095</td>\n",
       "      <td>Subscriber</td>\n",
       "      <td>1988.0</td>\n",
       "      <td>Male</td>\n",
       "      <td>No</td>\n",
       "    </tr>\n",
       "    <tr>\n",
       "      <th>183411</th>\n",
       "      <td>271</td>\n",
       "      <td>2019-02-01 00:00:20.6360</td>\n",
       "      <td>2019-02-01 00:04:52.0580</td>\n",
       "      <td>24.0</td>\n",
       "      <td>Spear St at Folsom St</td>\n",
       "      <td>37.789677</td>\n",
       "      <td>-122.390428</td>\n",
       "      <td>37.0</td>\n",
       "      <td>2nd St at Folsom St</td>\n",
       "      <td>37.785000</td>\n",
       "      <td>-122.395936</td>\n",
       "      <td>1057</td>\n",
       "      <td>Subscriber</td>\n",
       "      <td>1989.0</td>\n",
       "      <td>Male</td>\n",
       "      <td>No</td>\n",
       "    </tr>\n",
       "  </tbody>\n",
       "</table>\n",
       "</div>"
      ],
      "text/plain": [
       "        duration_sec                start_time                  end_time  \\\n",
       "183402           122  2019-02-01 00:17:32.2580  2019-02-01 00:19:34.9380   \n",
       "183403           249  2019-02-01 00:15:12.0670  2019-02-01 00:19:21.6990   \n",
       "183404           256  2019-02-01 00:12:50.5540  2019-02-01 00:17:07.3620   \n",
       "183405           111  2019-02-01 00:14:49.8740  2019-02-01 00:16:41.3010   \n",
       "183406           706  2019-02-01 00:04:40.6160  2019-02-01 00:16:27.0800   \n",
       "183407           480  2019-02-01 00:04:49.7240  2019-02-01 00:12:50.0340   \n",
       "183408           313  2019-02-01 00:05:34.7440  2019-02-01 00:10:48.5020   \n",
       "183409           141  2019-02-01 00:06:05.5490  2019-02-01 00:08:27.2200   \n",
       "183410           139  2019-02-01 00:05:34.3600  2019-02-01 00:07:54.2870   \n",
       "183411           271  2019-02-01 00:00:20.6360  2019-02-01 00:04:52.0580   \n",
       "\n",
       "        start_station_id                                start_station_name  \\\n",
       "183402             119.0                                 18th St at Noe St   \n",
       "183403             256.0                          Hearst Ave at Euclid Ave   \n",
       "183404             241.0                                Ashby BART Station   \n",
       "183405             324.0               Union Square (Powell St at Post St)   \n",
       "183406             138.0                            Jersey St at Church St   \n",
       "183407              27.0                           Beale St at Harrison St   \n",
       "183408              21.0  Montgomery St BART Station (Market St at 2nd St)   \n",
       "183409             278.0                            The Alameda at Bush St   \n",
       "183410             220.0                       San Pablo Ave at MLK Jr Way   \n",
       "183411              24.0                             Spear St at Folsom St   \n",
       "\n",
       "        start_station_latitude  start_station_longitude  end_station_id  \\\n",
       "183402               37.761047              -122.432642           120.0   \n",
       "183403               37.875112              -122.260553           247.0   \n",
       "183404               37.852477              -122.270213           248.0   \n",
       "183405               37.788300              -122.408531            19.0   \n",
       "183406               37.750900              -122.427411            78.0   \n",
       "183407               37.788059              -122.391865           324.0   \n",
       "183408               37.789625              -122.400811            66.0   \n",
       "183409               37.331932              -121.904888           277.0   \n",
       "183410               37.811351              -122.273422           216.0   \n",
       "183411               37.789677              -122.390428            37.0   \n",
       "\n",
       "                           end_station_name  end_station_latitude  \\\n",
       "183402                 Mission Dolores Park             37.761420   \n",
       "183403            Fulton St at Bancroft Way             37.867789   \n",
       "183404           Telegraph Ave at Ashby Ave             37.855956   \n",
       "183405                 Post St at Kearny St             37.788975   \n",
       "183406                  Folsom St at 9th St             37.773717   \n",
       "183407  Union Square (Powell St at Post St)             37.788300   \n",
       "183408                3rd St at Townsend St             37.778742   \n",
       "183409            Morrison Ave at Julian St             37.333658   \n",
       "183410             San Pablo Ave at 27th St             37.817827   \n",
       "183411                  2nd St at Folsom St             37.785000   \n",
       "\n",
       "        end_station_longitude  bike_id   user_type  member_birth_year  \\\n",
       "183402            -122.426435     4326  Subscriber                NaN   \n",
       "183403            -122.265896     4642  Subscriber             2000.0   \n",
       "183404            -122.259795     4845  Subscriber             1980.0   \n",
       "183405            -122.403452     4832  Subscriber             1984.0   \n",
       "183406            -122.411647     5017  Subscriber             1988.0   \n",
       "183407            -122.408531     4832  Subscriber             1996.0   \n",
       "183408            -122.392741     4960  Subscriber             1984.0   \n",
       "183409            -121.908586     3824  Subscriber             1990.0   \n",
       "183410            -122.275698     5095  Subscriber             1988.0   \n",
       "183411            -122.395936     1057  Subscriber             1989.0   \n",
       "\n",
       "       member_gender bike_share_for_all_trip  \n",
       "183402           NaN                      No  \n",
       "183403          Male                      No  \n",
       "183404          Male                     Yes  \n",
       "183405          Male                      No  \n",
       "183406          Male                      No  \n",
       "183407          Male                      No  \n",
       "183408          Male                      No  \n",
       "183409          Male                     Yes  \n",
       "183410          Male                      No  \n",
       "183411          Male                      No  "
      ]
     },
     "execution_count": 7,
     "metadata": {},
     "output_type": "execute_result"
    }
   ],
   "source": [
    "gobike.tail(10)"
   ]
  },
  {
   "cell_type": "code",
   "execution_count": 8,
   "metadata": {},
   "outputs": [
    {
     "name": "stdout",
     "output_type": "stream",
     "text": [
      "<class 'pandas.core.frame.DataFrame'>\n",
      "RangeIndex: 183412 entries, 0 to 183411\n",
      "Data columns (total 16 columns):\n",
      " #   Column                   Non-Null Count   Dtype  \n",
      "---  ------                   --------------   -----  \n",
      " 0   duration_sec             183412 non-null  int64  \n",
      " 1   start_time               183412 non-null  object \n",
      " 2   end_time                 183412 non-null  object \n",
      " 3   start_station_id         183215 non-null  float64\n",
      " 4   start_station_name       183215 non-null  object \n",
      " 5   start_station_latitude   183412 non-null  float64\n",
      " 6   start_station_longitude  183412 non-null  float64\n",
      " 7   end_station_id           183215 non-null  float64\n",
      " 8   end_station_name         183215 non-null  object \n",
      " 9   end_station_latitude     183412 non-null  float64\n",
      " 10  end_station_longitude    183412 non-null  float64\n",
      " 11  bike_id                  183412 non-null  int64  \n",
      " 12  user_type                183412 non-null  object \n",
      " 13  member_birth_year        175147 non-null  float64\n",
      " 14  member_gender            175147 non-null  object \n",
      " 15  bike_share_for_all_trip  183412 non-null  object \n",
      "dtypes: float64(7), int64(2), object(7)\n",
      "memory usage: 22.4+ MB\n"
     ]
    }
   ],
   "source": [
    "#showing info on columns\n",
    "gobike.info()"
   ]
  },
  {
   "cell_type": "code",
   "execution_count": 9,
   "metadata": {},
   "outputs": [
    {
     "data": {
      "text/html": [
       "<div>\n",
       "<style scoped>\n",
       "    .dataframe tbody tr th:only-of-type {\n",
       "        vertical-align: middle;\n",
       "    }\n",
       "\n",
       "    .dataframe tbody tr th {\n",
       "        vertical-align: top;\n",
       "    }\n",
       "\n",
       "    .dataframe thead th {\n",
       "        text-align: right;\n",
       "    }\n",
       "</style>\n",
       "<table border=\"1\" class=\"dataframe\">\n",
       "  <thead>\n",
       "    <tr style=\"text-align: right;\">\n",
       "      <th></th>\n",
       "      <th>duration_sec</th>\n",
       "      <th>start_station_id</th>\n",
       "      <th>start_station_latitude</th>\n",
       "      <th>start_station_longitude</th>\n",
       "      <th>end_station_id</th>\n",
       "      <th>end_station_latitude</th>\n",
       "      <th>end_station_longitude</th>\n",
       "      <th>bike_id</th>\n",
       "      <th>member_birth_year</th>\n",
       "    </tr>\n",
       "  </thead>\n",
       "  <tbody>\n",
       "    <tr>\n",
       "      <th>count</th>\n",
       "      <td>183412.000000</td>\n",
       "      <td>183215.000000</td>\n",
       "      <td>183412.000000</td>\n",
       "      <td>183412.000000</td>\n",
       "      <td>183215.000000</td>\n",
       "      <td>183412.000000</td>\n",
       "      <td>183412.000000</td>\n",
       "      <td>183412.000000</td>\n",
       "      <td>175147.000000</td>\n",
       "    </tr>\n",
       "    <tr>\n",
       "      <th>mean</th>\n",
       "      <td>726.078435</td>\n",
       "      <td>138.590427</td>\n",
       "      <td>37.771223</td>\n",
       "      <td>-122.352664</td>\n",
       "      <td>136.249123</td>\n",
       "      <td>37.771427</td>\n",
       "      <td>-122.352250</td>\n",
       "      <td>4472.906375</td>\n",
       "      <td>1984.806437</td>\n",
       "    </tr>\n",
       "    <tr>\n",
       "      <th>std</th>\n",
       "      <td>1794.389780</td>\n",
       "      <td>111.778864</td>\n",
       "      <td>0.099581</td>\n",
       "      <td>0.117097</td>\n",
       "      <td>111.515131</td>\n",
       "      <td>0.099490</td>\n",
       "      <td>0.116673</td>\n",
       "      <td>1664.383394</td>\n",
       "      <td>10.116689</td>\n",
       "    </tr>\n",
       "    <tr>\n",
       "      <th>min</th>\n",
       "      <td>61.000000</td>\n",
       "      <td>3.000000</td>\n",
       "      <td>37.317298</td>\n",
       "      <td>-122.453704</td>\n",
       "      <td>3.000000</td>\n",
       "      <td>37.317298</td>\n",
       "      <td>-122.453704</td>\n",
       "      <td>11.000000</td>\n",
       "      <td>1878.000000</td>\n",
       "    </tr>\n",
       "    <tr>\n",
       "      <th>25%</th>\n",
       "      <td>325.000000</td>\n",
       "      <td>47.000000</td>\n",
       "      <td>37.770083</td>\n",
       "      <td>-122.412408</td>\n",
       "      <td>44.000000</td>\n",
       "      <td>37.770407</td>\n",
       "      <td>-122.411726</td>\n",
       "      <td>3777.000000</td>\n",
       "      <td>1980.000000</td>\n",
       "    </tr>\n",
       "    <tr>\n",
       "      <th>50%</th>\n",
       "      <td>514.000000</td>\n",
       "      <td>104.000000</td>\n",
       "      <td>37.780760</td>\n",
       "      <td>-122.398285</td>\n",
       "      <td>100.000000</td>\n",
       "      <td>37.781010</td>\n",
       "      <td>-122.398279</td>\n",
       "      <td>4958.000000</td>\n",
       "      <td>1987.000000</td>\n",
       "    </tr>\n",
       "    <tr>\n",
       "      <th>75%</th>\n",
       "      <td>796.000000</td>\n",
       "      <td>239.000000</td>\n",
       "      <td>37.797280</td>\n",
       "      <td>-122.286533</td>\n",
       "      <td>235.000000</td>\n",
       "      <td>37.797320</td>\n",
       "      <td>-122.288045</td>\n",
       "      <td>5502.000000</td>\n",
       "      <td>1992.000000</td>\n",
       "    </tr>\n",
       "    <tr>\n",
       "      <th>max</th>\n",
       "      <td>85444.000000</td>\n",
       "      <td>398.000000</td>\n",
       "      <td>37.880222</td>\n",
       "      <td>-121.874119</td>\n",
       "      <td>398.000000</td>\n",
       "      <td>37.880222</td>\n",
       "      <td>-121.874119</td>\n",
       "      <td>6645.000000</td>\n",
       "      <td>2001.000000</td>\n",
       "    </tr>\n",
       "  </tbody>\n",
       "</table>\n",
       "</div>"
      ],
      "text/plain": [
       "        duration_sec  start_station_id  start_station_latitude  \\\n",
       "count  183412.000000     183215.000000           183412.000000   \n",
       "mean      726.078435        138.590427               37.771223   \n",
       "std      1794.389780        111.778864                0.099581   \n",
       "min        61.000000          3.000000               37.317298   \n",
       "25%       325.000000         47.000000               37.770083   \n",
       "50%       514.000000        104.000000               37.780760   \n",
       "75%       796.000000        239.000000               37.797280   \n",
       "max     85444.000000        398.000000               37.880222   \n",
       "\n",
       "       start_station_longitude  end_station_id  end_station_latitude  \\\n",
       "count            183412.000000   183215.000000         183412.000000   \n",
       "mean               -122.352664      136.249123             37.771427   \n",
       "std                   0.117097      111.515131              0.099490   \n",
       "min                -122.453704        3.000000             37.317298   \n",
       "25%                -122.412408       44.000000             37.770407   \n",
       "50%                -122.398285      100.000000             37.781010   \n",
       "75%                -122.286533      235.000000             37.797320   \n",
       "max                -121.874119      398.000000             37.880222   \n",
       "\n",
       "       end_station_longitude        bike_id  member_birth_year  \n",
       "count          183412.000000  183412.000000      175147.000000  \n",
       "mean             -122.352250    4472.906375        1984.806437  \n",
       "std                 0.116673    1664.383394          10.116689  \n",
       "min              -122.453704      11.000000        1878.000000  \n",
       "25%              -122.411726    3777.000000        1980.000000  \n",
       "50%              -122.398279    4958.000000        1987.000000  \n",
       "75%              -122.288045    5502.000000        1992.000000  \n",
       "max              -121.874119    6645.000000        2001.000000  "
      ]
     },
     "execution_count": 9,
     "metadata": {},
     "output_type": "execute_result"
    }
   ],
   "source": [
    "# checking a brief satistics on the columns with numerical values in the dataset\n",
    "gobike.describe()"
   ]
  },
  {
   "cell_type": "code",
   "execution_count": 10,
   "metadata": {},
   "outputs": [
    {
     "name": "stdout",
     "output_type": "stream",
     "text": [
      "\u001b[1mTypes of Users:\u001b[1m\n",
      "Subscriber    163544\n",
      "Customer       19868\n",
      "Name: user_type, dtype: int64\n",
      "\n",
      "\n",
      "Gender of users:\n",
      "Male      130651\n",
      "Female     40844\n",
      "Other       3652\n",
      "Name: member_gender, dtype: int64\n",
      "\n",
      "\n",
      "Bike share for all trips?\n",
      "No     166053\n",
      "Yes     17359\n",
      "Name: bike_share_for_all_trip, dtype: int64\n"
     ]
    }
   ],
   "source": [
    "# checking the unique values in the user_type column and the value count\n",
    "print('\\033[1m''Types of Users:''\\033[1m')\n",
    "print(gobike['user_type'].value_counts())\n",
    "print('\\n')\n",
    "\n",
    "# checking the unique values in the member_gender column and the count of each\n",
    "print('Gender of users:')\n",
    "print(gobike['member_gender'].value_counts())\n",
    "print('\\n')\n",
    "\n",
    "# checking the unique vakues in the bike_share_for_all_trip column and count of each\n",
    "print('Bike share for all trips?')\n",
    "print(gobike['bike_share_for_all_trip'].value_counts())"
   ]
  },
  {
   "cell_type": "markdown",
   "metadata": {},
   "source": [
    "#### Cleaning"
   ]
  },
  {
   "cell_type": "code",
   "execution_count": 11,
   "metadata": {},
   "outputs": [],
   "source": [
    "# making a copy of the dataset before cleaning\n",
    "gobike_clean = gobike.copy()"
   ]
  },
  {
   "cell_type": "code",
   "execution_count": 12,
   "metadata": {},
   "outputs": [],
   "source": [
    "# creating column for duration minutes from the values in duration_sec\n",
    "gobike_clean['duration_min'] = round(gobike_clean['duration_sec']/60)"
   ]
  },
  {
   "cell_type": "code",
   "execution_count": 13,
   "metadata": {},
   "outputs": [],
   "source": [
    "# extracting the start date from the start_time column\n",
    "gobike_clean['start_date']= pd.DatetimeIndex(gobike_clean['start_time']).normalize()\n",
    "\n",
    "# extrating the day of the week from start_date\n",
    "gobike_clean['start_day'] = gobike_clean.start_date.dt.day_name()\n",
    "\n",
    "# extracting the end date from the end_time column\n",
    "gobike_clean['end_date']= pd.DatetimeIndex(gobike_clean['end_time']).normalize()\n",
    "\n",
    "# extrating the day of the week from end_date\n",
    "gobike_clean['end_day'] = gobike_clean.end_date.dt.day_name()"
   ]
  },
  {
   "cell_type": "code",
   "execution_count": 14,
   "metadata": {},
   "outputs": [],
   "source": [
    "#extract the value of start hour and end hour from start_time\n",
    "gobike_clean['start_hour']= pd.DatetimeIndex(gobike_clean['start_time']).hour"
   ]
  },
  {
   "cell_type": "code",
   "execution_count": 15,
   "metadata": {},
   "outputs": [],
   "source": [
    "# grouping the time of the day into the followint: Late Night, Early Morning, Morning, Noon, Eve, Night\n",
    "b = [0,4,8,12,16,20,24]\n",
    "l = ['Late Night', 'Early Morning','Morning','Noon','Evening','Night']\n",
    "gobike_clean['time_of_day'] = pd.cut(gobike_clean['start_hour'],bins=b, labels= l, include_lowest = True)"
   ]
  },
  {
   "cell_type": "code",
   "execution_count": 16,
   "metadata": {},
   "outputs": [],
   "source": [
    "# extracting age from member_birth_year\n",
    "gobike_clean['age'] = datetime.now().year - gobike_clean['member_birth_year']\n",
    "gobike_clean['age'] = gobike_clean.age.fillna(0.0).astype(int)"
   ]
  },
  {
   "cell_type": "code",
   "execution_count": 17,
   "metadata": {},
   "outputs": [
    {
     "data": {
      "image/png": "[encoded data removed]",
      "text/plain": [
       "<Figure size 1080x432 with 2 Axes>"
      ]
     },
     "metadata": {
      "needs_background": "light"
     },
     "output_type": "display_data"
    }
   ],
   "source": [
    "# plot showing the age distribution of riders\n",
    "plt.figure(figsize = [15, 6])\n",
    "\n",
    "# first sub-plot\n",
    "plt.subplot(1, 2, 1)\n",
    "sb.boxplot(data=gobike_clean, y='age')\n",
    "plt.ylim(ymin=0);\n",
    "\n",
    "# second sub-plot\n",
    "plt.subplot(1, 2, 2)\n",
    "bins_age= np.arange(0, gobike_clean['age'].max()+3, 3)\n",
    "plt.hist(data=gobike_clean, x='age',bins=bins_age)\n",
    "plt.xlabel('age');\n",
    "\n",
    "plt.suptitle('Age Distribution of Users');"
   ]
  },
  {
   "cell_type": "markdown",
   "metadata": {},
   "source": [
    "From the charts above, it is shown that there are outliers in the age distribution of the users (0, 70+). I will be removing the rows containing these ages from the dataset as no user should be age zero(0), and it is uncommon of people over 70 years old to ride bicycles. We can also see the population of these age groups in the data are ridiculosly low.\n"
   ]
  },
  {
   "cell_type": "code",
   "execution_count": 18,
   "metadata": {},
   "outputs": [],
   "source": [
    "# this code will remove any records with age value below 20 and above 60\n",
    "gobike_clean = gobike_clean.query('age >20<60')\n",
    "gobike_clean = gobike_clean.query('age <60')"
   ]
  },
  {
   "cell_type": "code",
   "execution_count": 19,
   "metadata": {},
   "outputs": [],
   "source": [
    "# creating age groups/categories into three\n",
    "gobike_clean.loc[((gobike_clean['age']>=21)&(gobike_clean['age']<=25)), 'age_category'] = '21-25'\n",
    "gobike_clean.loc[((gobike_clean['age']>=26)&(gobike_clean['age']<=30)), 'age_category'] = '26-30'\n",
    "gobike_clean.loc[((gobike_clean['age']>=31)&(gobike_clean['age']<=35)), 'age_category'] = '31-35'\n",
    "gobike_clean.loc[((gobike_clean['age']>=36)&(gobike_clean['age']<=40)), 'age_category'] = '36-40'\n",
    "gobike_clean.loc[((gobike_clean['age']>=41)&(gobike_clean['age']<=45)), 'age_category'] = '41-45'\n",
    "gobike_clean.loc[((gobike_clean['age']>=46)&(gobike_clean['age']<=50)), 'age_category'] = '46-50'\n",
    "gobike_clean.loc[((gobike_clean['age']>=51)&(gobike_clean['age']<=56)), 'age_category'] = '51-55'\n",
    "gobike_clean.loc[(gobike_clean['age']>=56), 'age_category'] = '56-60'"
   ]
  },
  {
   "cell_type": "code",
   "execution_count": 20,
   "metadata": {},
   "outputs": [],
   "source": [
    "# dropping columns not needed\n",
    "drop_columns = ['duration_sec', 'start_time','end_time','start_station_latitude','start_station_longitude',\n",
    "                'start_station_id','end_station_latitude','end_station_longitude','end_station_id','member_birth_year',]\n",
    "gobike_clean.drop(drop_columns, axis=1, inplace = True)\n"
   ]
  },
  {
   "cell_type": "code",
   "execution_count": 21,
   "metadata": {},
   "outputs": [],
   "source": [
    "# convert into ordered categorical types\n",
    "ordinal_var_dict = {'user_type': ['Subscriber','Customer'],\n",
    "                    'member_gender': ['Male', 'Female', 'Other'],\n",
    "                    'bike_share_for_all_trip': ['No', 'Yes'],\n",
    "                   'start_day': ['Monday','Tuesday','Wednesday','Thursday','Friday','Saturday','Sunday'],\n",
    "                   'end_day': ['Monday','Tuesday','Wednesday','Thursday','Friday','Saturday','Sunday'],\n",
    "                   'time_of_day': ['Late Night', 'Early Morning','Morning','Noon','Evening','Night'],\n",
    "                   'age_category': ['21-25','26-30', '31-35', '36-40', '41-45', '46-50', '51-55','56-60']}\n",
    "\n",
    "for var in ordinal_var_dict:\n",
    "    ordered_var = pd.api.types.CategoricalDtype(ordered = True,\n",
    "                                                categories = ordinal_var_dict[var])\n",
    "    gobike_clean[var] = gobike_clean[var].astype(ordered_var)"
   ]
  },
  {
   "cell_type": "code",
   "execution_count": 22,
   "metadata": {},
   "outputs": [
    {
     "data": {
      "text/plain": [
       "array([38, 50, 33, 48, 39, 34, 30, 26, 29, 32, 41, 47, 44, 31, 25, 36, 22,\n",
       "       40, 27, 42, 49, 37, 51, 43, 55, 24, 28, 45, 23, 35, 53, 59, 46, 58,\n",
       "       57, 54, 56, 52, 21])"
      ]
     },
     "execution_count": 22,
     "metadata": {},
     "output_type": "execute_result"
    }
   ],
   "source": [
    "gobike_clean['age'].unique()"
   ]
  },
  {
   "cell_type": "code",
   "execution_count": 23,
   "metadata": {
    "scrolled": false
   },
   "outputs": [
    {
     "data": {
      "text/html": [
       "<div>\n",
       "<style scoped>\n",
       "    .dataframe tbody tr th:only-of-type {\n",
       "        vertical-align: middle;\n",
       "    }\n",
       "\n",
       "    .dataframe tbody tr th {\n",
       "        vertical-align: top;\n",
       "    }\n",
       "\n",
       "    .dataframe thead th {\n",
       "        text-align: right;\n",
       "    }\n",
       "</style>\n",
       "<table border=\"1\" class=\"dataframe\">\n",
       "  <thead>\n",
       "    <tr style=\"text-align: right;\">\n",
       "      <th></th>\n",
       "      <th>bike_id</th>\n",
       "      <th>user_type</th>\n",
       "      <th>member_gender</th>\n",
       "      <th>duration_min</th>\n",
       "      <th>start_station_name</th>\n",
       "      <th>start_date</th>\n",
       "      <th>start_day</th>\n",
       "      <th>end_station_name</th>\n",
       "      <th>end_date</th>\n",
       "      <th>end_day</th>\n",
       "      <th>start_hour</th>\n",
       "      <th>time_of_day</th>\n",
       "      <th>age</th>\n",
       "      <th>age_category</th>\n",
       "      <th>bike_share_for_all_trip</th>\n",
       "    </tr>\n",
       "  </thead>\n",
       "  <tbody>\n",
       "    <tr>\n",
       "      <th>174368</th>\n",
       "      <td>5226</td>\n",
       "      <td>Subscriber</td>\n",
       "      <td>Male</td>\n",
       "      <td>10.0</td>\n",
       "      <td>5th St at Brannan St</td>\n",
       "      <td>2019-02-02</td>\n",
       "      <td>Saturday</td>\n",
       "      <td>Powell St BART Station (Market St at 5th St)</td>\n",
       "      <td>2019-02-02</td>\n",
       "      <td>Saturday</td>\n",
       "      <td>18</td>\n",
       "      <td>Evening</td>\n",
       "      <td>34</td>\n",
       "      <td>31-35</td>\n",
       "      <td>No</td>\n",
       "    </tr>\n",
       "    <tr>\n",
       "      <th>168703</th>\n",
       "      <td>4915</td>\n",
       "      <td>Subscriber</td>\n",
       "      <td>Male</td>\n",
       "      <td>8.0</td>\n",
       "      <td>Telegraph Ave at Ashby Ave</td>\n",
       "      <td>2019-02-04</td>\n",
       "      <td>Monday</td>\n",
       "      <td>Bancroft Way at Telegraph Ave</td>\n",
       "      <td>2019-02-04</td>\n",
       "      <td>Monday</td>\n",
       "      <td>13</td>\n",
       "      <td>Noon</td>\n",
       "      <td>27</td>\n",
       "      <td>26-30</td>\n",
       "      <td>No</td>\n",
       "    </tr>\n",
       "    <tr>\n",
       "      <th>71722</th>\n",
       "      <td>6591</td>\n",
       "      <td>Subscriber</td>\n",
       "      <td>Female</td>\n",
       "      <td>6.0</td>\n",
       "      <td>Powell St BART Station (Market St at 4th St)</td>\n",
       "      <td>2019-02-19</td>\n",
       "      <td>Tuesday</td>\n",
       "      <td>Broadway at Kearny</td>\n",
       "      <td>2019-02-19</td>\n",
       "      <td>Tuesday</td>\n",
       "      <td>17</td>\n",
       "      <td>Evening</td>\n",
       "      <td>34</td>\n",
       "      <td>31-35</td>\n",
       "      <td>No</td>\n",
       "    </tr>\n",
       "    <tr>\n",
       "      <th>25872</th>\n",
       "      <td>6572</td>\n",
       "      <td>Subscriber</td>\n",
       "      <td>Male</td>\n",
       "      <td>7.0</td>\n",
       "      <td>8th St at Brannan St</td>\n",
       "      <td>2019-02-25</td>\n",
       "      <td>Monday</td>\n",
       "      <td>Powell St BART Station (Market St at 5th St)</td>\n",
       "      <td>2019-02-25</td>\n",
       "      <td>Monday</td>\n",
       "      <td>15</td>\n",
       "      <td>Noon</td>\n",
       "      <td>38</td>\n",
       "      <td>36-40</td>\n",
       "      <td>No</td>\n",
       "    </tr>\n",
       "    <tr>\n",
       "      <th>3571</th>\n",
       "      <td>5104</td>\n",
       "      <td>Subscriber</td>\n",
       "      <td>Male</td>\n",
       "      <td>7.0</td>\n",
       "      <td>West Oakland BART Station</td>\n",
       "      <td>2019-02-28</td>\n",
       "      <td>Thursday</td>\n",
       "      <td>32nd St at Adeline St</td>\n",
       "      <td>2019-02-28</td>\n",
       "      <td>Thursday</td>\n",
       "      <td>17</td>\n",
       "      <td>Evening</td>\n",
       "      <td>31</td>\n",
       "      <td>31-35</td>\n",
       "      <td>No</td>\n",
       "    </tr>\n",
       "    <tr>\n",
       "      <th>117423</th>\n",
       "      <td>1333</td>\n",
       "      <td>Subscriber</td>\n",
       "      <td>Female</td>\n",
       "      <td>5.0</td>\n",
       "      <td>Ninth St at Heinz Ave</td>\n",
       "      <td>2019-02-11</td>\n",
       "      <td>Monday</td>\n",
       "      <td>Channing Way at San Pablo Ave</td>\n",
       "      <td>2019-02-11</td>\n",
       "      <td>Monday</td>\n",
       "      <td>21</td>\n",
       "      <td>Night</td>\n",
       "      <td>33</td>\n",
       "      <td>31-35</td>\n",
       "      <td>No</td>\n",
       "    </tr>\n",
       "    <tr>\n",
       "      <th>18108</th>\n",
       "      <td>3783</td>\n",
       "      <td>Subscriber</td>\n",
       "      <td>Male</td>\n",
       "      <td>6.0</td>\n",
       "      <td>San Jose Diridon Station</td>\n",
       "      <td>2019-02-26</td>\n",
       "      <td>Tuesday</td>\n",
       "      <td>San Salvador St at 1st St</td>\n",
       "      <td>2019-02-26</td>\n",
       "      <td>Tuesday</td>\n",
       "      <td>19</td>\n",
       "      <td>Evening</td>\n",
       "      <td>29</td>\n",
       "      <td>26-30</td>\n",
       "      <td>No</td>\n",
       "    </tr>\n",
       "    <tr>\n",
       "      <th>125698</th>\n",
       "      <td>5509</td>\n",
       "      <td>Subscriber</td>\n",
       "      <td>Male</td>\n",
       "      <td>9.0</td>\n",
       "      <td>Broadway at 40th St</td>\n",
       "      <td>2019-02-11</td>\n",
       "      <td>Monday</td>\n",
       "      <td>19th Street BART Station</td>\n",
       "      <td>2019-02-11</td>\n",
       "      <td>Monday</td>\n",
       "      <td>6</td>\n",
       "      <td>Early Morning</td>\n",
       "      <td>39</td>\n",
       "      <td>36-40</td>\n",
       "      <td>No</td>\n",
       "    </tr>\n",
       "    <tr>\n",
       "      <th>425</th>\n",
       "      <td>5563</td>\n",
       "      <td>Subscriber</td>\n",
       "      <td>Female</td>\n",
       "      <td>34.0</td>\n",
       "      <td>Bay Pl at Vernon St</td>\n",
       "      <td>2019-02-28</td>\n",
       "      <td>Thursday</td>\n",
       "      <td>24th St at Market St</td>\n",
       "      <td>2019-02-28</td>\n",
       "      <td>Thursday</td>\n",
       "      <td>21</td>\n",
       "      <td>Night</td>\n",
       "      <td>24</td>\n",
       "      <td>21-25</td>\n",
       "      <td>Yes</td>\n",
       "    </tr>\n",
       "    <tr>\n",
       "      <th>28529</th>\n",
       "      <td>5471</td>\n",
       "      <td>Subscriber</td>\n",
       "      <td>Male</td>\n",
       "      <td>4.0</td>\n",
       "      <td>Webster St at 2nd St</td>\n",
       "      <td>2019-02-25</td>\n",
       "      <td>Monday</td>\n",
       "      <td>Washington St at 8th St</td>\n",
       "      <td>2019-02-25</td>\n",
       "      <td>Monday</td>\n",
       "      <td>8</td>\n",
       "      <td>Early Morning</td>\n",
       "      <td>39</td>\n",
       "      <td>36-40</td>\n",
       "      <td>No</td>\n",
       "    </tr>\n",
       "  </tbody>\n",
       "</table>\n",
       "</div>"
      ],
      "text/plain": [
       "        bike_id   user_type member_gender  duration_min  \\\n",
       "174368     5226  Subscriber          Male          10.0   \n",
       "168703     4915  Subscriber          Male           8.0   \n",
       "71722      6591  Subscriber        Female           6.0   \n",
       "25872      6572  Subscriber          Male           7.0   \n",
       "3571       5104  Subscriber          Male           7.0   \n",
       "117423     1333  Subscriber        Female           5.0   \n",
       "18108      3783  Subscriber          Male           6.0   \n",
       "125698     5509  Subscriber          Male           9.0   \n",
       "425        5563  Subscriber        Female          34.0   \n",
       "28529      5471  Subscriber          Male           4.0   \n",
       "\n",
       "                                  start_station_name start_date start_day  \\\n",
       "174368                          5th St at Brannan St 2019-02-02  Saturday   \n",
       "168703                    Telegraph Ave at Ashby Ave 2019-02-04    Monday   \n",
       "71722   Powell St BART Station (Market St at 4th St) 2019-02-19   Tuesday   \n",
       "25872                           8th St at Brannan St 2019-02-25    Monday   \n",
       "3571                       West Oakland BART Station 2019-02-28  Thursday   \n",
       "117423                         Ninth St at Heinz Ave 2019-02-11    Monday   \n",
       "18108                       San Jose Diridon Station 2019-02-26   Tuesday   \n",
       "125698                           Broadway at 40th St 2019-02-11    Monday   \n",
       "425                              Bay Pl at Vernon St 2019-02-28  Thursday   \n",
       "28529                           Webster St at 2nd St 2019-02-25    Monday   \n",
       "\n",
       "                                    end_station_name   end_date   end_day  \\\n",
       "174368  Powell St BART Station (Market St at 5th St) 2019-02-02  Saturday   \n",
       "168703                 Bancroft Way at Telegraph Ave 2019-02-04    Monday   \n",
       "71722                             Broadway at Kearny 2019-02-19   Tuesday   \n",
       "25872   Powell St BART Station (Market St at 5th St) 2019-02-25    Monday   \n",
       "3571                           32nd St at Adeline St 2019-02-28  Thursday   \n",
       "117423                 Channing Way at San Pablo Ave 2019-02-11    Monday   \n",
       "18108                      San Salvador St at 1st St 2019-02-26   Tuesday   \n",
       "125698                      19th Street BART Station 2019-02-11    Monday   \n",
       "425                             24th St at Market St 2019-02-28  Thursday   \n",
       "28529                        Washington St at 8th St 2019-02-25    Monday   \n",
       "\n",
       "        start_hour    time_of_day  age age_category bike_share_for_all_trip  \n",
       "174368          18        Evening   34        31-35                      No  \n",
       "168703          13           Noon   27        26-30                      No  \n",
       "71722           17        Evening   34        31-35                      No  \n",
       "25872           15           Noon   38        36-40                      No  \n",
       "3571            17        Evening   31        31-35                      No  \n",
       "117423          21          Night   33        31-35                      No  \n",
       "18108           19        Evening   29        26-30                      No  \n",
       "125698           6  Early Morning   39        36-40                      No  \n",
       "425             21          Night   24        21-25                     Yes  \n",
       "28529            8  Early Morning   39        36-40                      No  "
      ]
     },
     "execution_count": 23,
     "metadata": {},
     "output_type": "execute_result"
    }
   ],
   "source": [
    "# re-arranging columns in the gobike dataframe using reindex()\n",
    "column_names = ['bike_id', 'user_type', 'member_gender', 'duration_min', 'start_station_name',\n",
    "                'start_date', 'start_day', 'end_station_name', 'end_date', 'end_day', 'start_hour',\n",
    "                'time_of_day', 'age', 'age_category', 'bike_share_for_all_trip']\n",
    "gobike_clean = gobike_clean.reindex(columns=column_names)\n",
    "\n",
    "# taking a look at a sample of the current update on the dataset\n",
    "gobike_clean.sample(10)"
   ]
  },
  {
   "cell_type": "code",
   "execution_count": 24,
   "metadata": {
    "scrolled": false
   },
   "outputs": [
    {
     "name": "stdout",
     "output_type": "stream",
     "text": [
      "<class 'pandas.core.frame.DataFrame'>\n",
      "Int64Index: 168409 entries, 0 to 183411\n",
      "Data columns (total 15 columns):\n",
      " #   Column                   Non-Null Count   Dtype         \n",
      "---  ------                   --------------   -----         \n",
      " 0   bike_id                  168409 non-null  int64         \n",
      " 1   user_type                168409 non-null  category      \n",
      " 2   member_gender            168409 non-null  category      \n",
      " 3   duration_min             168409 non-null  float64       \n",
      " 4   start_station_name       168216 non-null  object        \n",
      " 5   start_date               168409 non-null  datetime64[ns]\n",
      " 6   start_day                168409 non-null  category      \n",
      " 7   end_station_name         168216 non-null  object        \n",
      " 8   end_date                 168409 non-null  datetime64[ns]\n",
      " 9   end_day                  168409 non-null  category      \n",
      " 10  start_hour               168409 non-null  int64         \n",
      " 11  time_of_day              168409 non-null  category      \n",
      " 12  age                      168409 non-null  int32         \n",
      " 13  age_category             168409 non-null  category      \n",
      " 14  bike_share_for_all_trip  168409 non-null  category      \n",
      "dtypes: category(7), datetime64[ns](2), float64(1), int32(1), int64(2), object(2)\n",
      "memory usage: 12.0+ MB\n"
     ]
    }
   ],
   "source": [
    "gobike_clean.info()"
   ]
  },
  {
   "cell_type": "code",
   "execution_count": 25,
   "metadata": {},
   "outputs": [
    {
     "data": {
      "text/html": [
       "<div>\n",
       "<style scoped>\n",
       "    .dataframe tbody tr th:only-of-type {\n",
       "        vertical-align: middle;\n",
       "    }\n",
       "\n",
       "    .dataframe tbody tr th {\n",
       "        vertical-align: top;\n",
       "    }\n",
       "\n",
       "    .dataframe thead th {\n",
       "        text-align: right;\n",
       "    }\n",
       "</style>\n",
       "<table border=\"1\" class=\"dataframe\">\n",
       "  <thead>\n",
       "    <tr style=\"text-align: right;\">\n",
       "      <th></th>\n",
       "      <th>bike_id</th>\n",
       "      <th>duration_min</th>\n",
       "      <th>start_hour</th>\n",
       "      <th>age</th>\n",
       "    </tr>\n",
       "  </thead>\n",
       "  <tbody>\n",
       "    <tr>\n",
       "      <th>count</th>\n",
       "      <td>168409.000000</td>\n",
       "      <td>168409.000000</td>\n",
       "      <td>168409.000000</td>\n",
       "      <td>168409.000000</td>\n",
       "    </tr>\n",
       "    <tr>\n",
       "      <th>mean</th>\n",
       "      <td>4493.302490</td>\n",
       "      <td>11.699725</td>\n",
       "      <td>13.477997</td>\n",
       "      <td>36.047955</td>\n",
       "    </tr>\n",
       "    <tr>\n",
       "      <th>std</th>\n",
       "      <td>1652.302326</td>\n",
       "      <td>27.556837</td>\n",
       "      <td>4.747819</td>\n",
       "      <td>8.349473</td>\n",
       "    </tr>\n",
       "    <tr>\n",
       "      <th>min</th>\n",
       "      <td>11.000000</td>\n",
       "      <td>1.000000</td>\n",
       "      <td>0.000000</td>\n",
       "      <td>21.000000</td>\n",
       "    </tr>\n",
       "    <tr>\n",
       "      <th>25%</th>\n",
       "      <td>3841.000000</td>\n",
       "      <td>5.000000</td>\n",
       "      <td>9.000000</td>\n",
       "      <td>30.000000</td>\n",
       "    </tr>\n",
       "    <tr>\n",
       "      <th>50%</th>\n",
       "      <td>4963.000000</td>\n",
       "      <td>8.000000</td>\n",
       "      <td>14.000000</td>\n",
       "      <td>34.000000</td>\n",
       "    </tr>\n",
       "    <tr>\n",
       "      <th>75%</th>\n",
       "      <td>5508.000000</td>\n",
       "      <td>13.000000</td>\n",
       "      <td>17.000000</td>\n",
       "      <td>41.000000</td>\n",
       "    </tr>\n",
       "    <tr>\n",
       "      <th>max</th>\n",
       "      <td>6645.000000</td>\n",
       "      <td>1409.000000</td>\n",
       "      <td>23.000000</td>\n",
       "      <td>59.000000</td>\n",
       "    </tr>\n",
       "  </tbody>\n",
       "</table>\n",
       "</div>"
      ],
      "text/plain": [
       "             bike_id   duration_min     start_hour            age\n",
       "count  168409.000000  168409.000000  168409.000000  168409.000000\n",
       "mean     4493.302490      11.699725      13.477997      36.047955\n",
       "std      1652.302326      27.556837       4.747819       8.349473\n",
       "min        11.000000       1.000000       0.000000      21.000000\n",
       "25%      3841.000000       5.000000       9.000000      30.000000\n",
       "50%      4963.000000       8.000000      14.000000      34.000000\n",
       "75%      5508.000000      13.000000      17.000000      41.000000\n",
       "max      6645.000000    1409.000000      23.000000      59.000000"
      ]
     },
     "execution_count": 25,
     "metadata": {},
     "output_type": "execute_result"
    }
   ],
   "source": [
    "# checking a brief satistics on the columns with numerical values in the dataset\n",
    "gobike_clean.describe()"
   ]
  },
  {
   "cell_type": "code",
   "execution_count": 26,
   "metadata": {},
   "outputs": [],
   "source": [
    "# save cleaned data into csv file \n",
    "gobike_clean.to_csv('cleaned_201902-fordgobike-tripdata.csv', index=False)"
   ]
  },
  {
   "cell_type": "markdown",
   "metadata": {},
   "source": [
    "### What is the structure of your dataset?\n",
    "\n",
    "There are 168,409 trips in the dataset with 13 features (bike_id, user_type, member_gender, duration_min, start_station_name,\n",
    "start_date, start_day, end_station_name, end_date, end_day, start_hour, time_of_day, bike_share_for_all_trip). The variables cut accross different datatypes(object, float, int, datatime and category).\n",
    "\n",
    "### What is/are the main feature(s) of interest in your dataset?\n",
    "\n",
    "The main features of interest are the insights related to the duration of the bike share, time of the day rides were started, days of the week rides were started, type of user, age  and gender of the riders.\n",
    "\n",
    "### What features in the dataset do you think will help support your investigation into your feature(s) of interest?\n",
    "\n",
    "There are alot of features to explore to investigate the demand for rides at different point in time. I will be looking at the following features related the trips;\n",
    "\n",
    "* __user_type:__ contains the types users demanded the bikes.\n",
    "\n",
    "* __member_gender:__ the gender of the users of the rides.\n",
    "\n",
    "* __duration_min:__ this contains the number of minutes spent for the trip using the bike.\n",
    "\n",
    "* __start_day:__ the day of the week in which the trips were started.\n",
    "\n",
    "* __start_hour:__ this column contains the hours which rides were demanded.\n",
    "\n",
    "* __time_of_day:__ this column contains categories of periods of the day when rides were demanded.\n",
    "\n",
    "* __age:__ contains the age of the users.\n",
    "\n",
    "* __age_category:__ contains groups of the age of riders.\n",
    "\n",
    "* __bike_share_for_all_trip:__ an affordable bikeshare program."
   ]
  },
  {
   "cell_type": "markdown",
   "metadata": {},
   "source": [
    "## Univariate Exploration\n",
    "\n",
    "> In this section, investigate distributions of individual variables.\n"
   ]
  },
  {
   "cell_type": "code",
   "execution_count": 27,
   "metadata": {
    "scrolled": true
   },
   "outputs": [
    {
     "name": "stdout",
     "output_type": "stream",
     "text": [
      "\u001b[1m Subscriber    152250\n",
      "Customer       16159\n",
      "Name: user_type, dtype: int64\n"
     ]
    }
   ],
   "source": [
    "# the value count of each type of user\n",
    "print('\\033[1m',gobike_clean['user_type'].value_counts())"
   ]
  },
  {
   "cell_type": "code",
   "execution_count": 28,
   "metadata": {},
   "outputs": [
    {
     "name": "stdout",
     "output_type": "stream",
     "text": [
      "\u001b[1mSubscriber_prop: 90.40490710116443\n",
      "Customer_prop: 9.595092898835574\n"
     ]
    }
   ],
   "source": [
    "# calculating for the proportion for each type with the total users\n",
    "\n",
    "subscriber_count = gobike_clean.query('user_type == \"Subscriber\"')['bike_id'].count()\n",
    "customer_count = gobike_clean.query('user_type == \"Customer\"')['bike_id'].count()\n",
    "\n",
    "subscriber_prop = (subscriber_count / gobike_clean['bike_id'].count()) *100\n",
    "customer_prop = (customer_count / gobike_clean['bike_id'].count()) *100\n",
    "\n",
    "# print the proportion of each user type to the total users\n",
    "print('\\033[1m''Subscriber_prop:',subscriber_prop)\n",
    "print('Customer_prop:',customer_prop)"
   ]
  },
  {
   "cell_type": "code",
   "execution_count": 29,
   "metadata": {},
   "outputs": [
    {
     "data": {
      "image/png": "[encoded data removed]",
      "text/plain": [
       "<Figure size 1080x432 with 2 Axes>"
      ]
     },
     "metadata": {
      "needs_background": "light"
     },
     "output_type": "display_data"
    }
   ],
   "source": [
    "# User type for GoBike sharing system\n",
    "plt.figure(figsize = [15, 6])\n",
    "\n",
    "# plot showing count of each user_type on a bar chart\n",
    "plt.subplot(1,2,1)\n",
    "base_color = sb.color_palette()[0]\n",
    "type_order = gobike_clean['user_type'].value_counts().index\n",
    "sb.countplot(data=gobike_clean, x ='user_type', color=base_color, order=type_order)\n",
    "plt.title('Total Count of User Type');\n",
    "\n",
    "# This code will display the proportion of each type in pie chart\n",
    "plt.subplot(1,2,2)\n",
    "l_type = ['Customer', 'Subscriber']\n",
    "sizes_type = [customer_prop, subscriber_prop]\n",
    "plt.pie(sizes_type, explode=(0, 0.1), labels=l_type,autopct='%1.1f%%')\n",
    "plt.axis('equal')\n",
    "plt.title('Proportion of User Type');\n",
    "\n",
    "# plot heading \n",
    "plt.suptitle('User type for GoBike sharing system', fontsize=15);"
   ]
  },
  {
   "cell_type": "markdown",
   "metadata": {},
   "source": [
    "* From the bar and pie chart above depicting the total count  and proportion of each user type to the total population of users considered in the dataset, we can clearly see that users were majorly subscribers, with _90.4% of the whole users_, which are the registered members. The number of casual patronizers which are the customers are less than ten percent, _9.6% of the riders_."
   ]
  },
  {
   "cell_type": "code",
   "execution_count": 30,
   "metadata": {},
   "outputs": [
    {
     "name": "stdout",
     "output_type": "stream",
     "text": [
      "\u001b[1m Male      125170\n",
      "Female     39672\n",
      "Other       3567\n",
      "Name: member_gender, dtype: int64\n"
     ]
    }
   ],
   "source": [
    "# total count of each gender of users\n",
    "print('\\033[1m',gobike_clean['member_gender'].value_counts())"
   ]
  },
  {
   "cell_type": "code",
   "execution_count": 31,
   "metadata": {},
   "outputs": [
    {
     "name": "stdout",
     "output_type": "stream",
     "text": [
      "\u001b[1mMale_prop: 74.3250063832693\n",
      "Female_prop: 23.5569357932177\n",
      "Other_prop: 2.1180578235129954\n"
     ]
    }
   ],
   "source": [
    "# calculating for the proportion for each gender with the total users\n",
    "male_count = gobike_clean.query('member_gender == \"Male\"')['bike_id'].count()\n",
    "female_count = gobike_clean.query('member_gender == \"Female\"')['bike_id'].count()\n",
    "other_count = gobike_clean.query('member_gender == \"Other\"')['bike_id'].count()\n",
    "\n",
    "male_prop = (male_count / gobike_clean['bike_id'].count()) *100\n",
    "female_prop = (female_count / gobike_clean['bike_id'].count()) *100\n",
    "other_prop = (other_count / gobike_clean['bike_id'].count()) *100\n",
    "\n",
    "# print the proportion of each gender to the total users\n",
    "print('\\033[1m''Male_prop:',male_prop)\n",
    "print('Female_prop:',female_prop)\n",
    "print('Other_prop:',other_prop)"
   ]
  },
  {
   "cell_type": "code",
   "execution_count": 32,
   "metadata": {
    "scrolled": false
   },
   "outputs": [
    {
     "data": {
      "image/png": "[encoded data removed]",
      "text/plain": [
       "<Figure size 1080x432 with 2 Axes>"
      ]
     },
     "metadata": {
      "needs_background": "light"
     },
     "output_type": "display_data"
    }
   ],
   "source": [
    "# Gender of GoBike sharing system users\n",
    "plt.figure(figsize = [15, 6])\n",
    "\n",
    "# plot showing count of each gender on a bar chart\n",
    "plt.subplot(1,2,1)\n",
    "gender_order = gobike_clean['member_gender'].value_counts().index\n",
    "sb.countplot(data=gobike_clean, x ='member_gender', color=base_color, order=gender_order)\n",
    "plt.title('Total Count of Genders');\n",
    "\n",
    "# this code will display the proportion of each gender in pie chart\n",
    "plt.subplot(1,2,2)\n",
    "l_gender = ['Male', 'Female', 'Other']\n",
    "sizes_gender = [male_prop, female_prop, other_prop]\n",
    "plt.pie(sizes_gender, labels=l_gender,autopct='%1.1f%%')\n",
    "plt.axis('equal')\n",
    "plt.title('Proportion of Genders');\n",
    "\n",
    "# plot heading \n",
    "plt.suptitle('Gender of GoBike sharing system Users', fontsize=15);"
   ]
  },
  {
   "cell_type": "markdown",
   "metadata": {},
   "source": [
    "* From the charts above, we can see that there were more male users than other genders using the gobike sharing system, with male users being 74.3% of the total users."
   ]
  },
  {
   "cell_type": "code",
   "execution_count": 33,
   "metadata": {},
   "outputs": [
    {
     "name": "stdout",
     "output_type": "stream",
     "text": [
      "\u001b[1mStart Days:\n",
      " Thursday     32390\n",
      "Tuesday      29497\n",
      "Wednesday    27381\n",
      "Friday       26592\n",
      "Monday       24687\n",
      "Sunday       13975\n",
      "Saturday     13887\n",
      "Name: start_day, dtype: int64\n",
      "End Days:\n",
      " Thursday     32385\n",
      "Tuesday      29503\n",
      "Wednesday    27372\n",
      "Friday       26583\n",
      "Monday       24690\n",
      "Sunday       13981\n",
      "Saturday     13895\n",
      "Name: end_day, dtype: int64\n"
     ]
    }
   ],
   "source": [
    "\n",
    "print('\\033[1m''Start Days:\\n', gobike_clean['start_day'].value_counts())\n",
    "print('End Days:\\n',gobike_clean['end_day'].value_counts())"
   ]
  },
  {
   "cell_type": "code",
   "execution_count": 34,
   "metadata": {},
   "outputs": [
    {
     "data": {
      "image/png": "[encoded data removed]",
      "text/plain": [
       "<Figure size 1440x432 with 2 Axes>"
      ]
     },
     "metadata": {
      "needs_background": "light"
     },
     "output_type": "display_data"
    }
   ],
   "source": [
    "# def trip_days\n",
    "def trip_days(subplot, week_day, title, ylabel, xlabel):\n",
    "#     Trip start days\n",
    "    plt.subplot(subplot[0], subplot[1], subplot[2])\n",
    "    start_day_order = gobike_clean[week_day].value_counts().index\n",
    "    sb.countplot(data=gobike_clean, x =week_day, color=base_color);\n",
    "    plt.title(title)\n",
    "    plt.ylabel(ylabel)\n",
    "    plt.xlabel(xlabel)\n",
    "\n",
    "# def plot_trips\n",
    "def plot_trips(plot_figure):\n",
    "#     Plot heading\n",
    "    plt.figure(figsize = plot_figure)\n",
    "    trip_days((1, 2, 1), 'start_day', 'Trip Start Days', 'Trip Count', 'Trip Days')\n",
    "    trip_days((1, 2, 2), 'end_day', 'Trip End Days', 'Trip Count', 'Trip Days')\n",
    "    plt.suptitle('Gender of GoBike sharing system Users', fontsize=15);\n",
    "    \n",
    "plot_trips([20,6])"
   ]
  },
  {
   "cell_type": "markdown",
   "metadata": {},
   "source": [
    "* The horizontal bar charts above shows that bike were used more on Thursday, as Thursday has both the highest start trips and end trips than other days of the week. Also from the charts we can see that trip count are low on the first day of the week and weekends compared the remaining days in the week."
   ]
  },
  {
   "cell_type": "code",
   "execution_count": 35,
   "metadata": {},
   "outputs": [
    {
     "name": "stdout",
     "output_type": "stream",
     "text": [
      "\u001b[1m Evening          51219\n",
      "Morning          37167\n",
      "Noon             36001\n",
      "Early Morning    33396\n",
      "Night             8558\n",
      "Late Night        2068\n",
      "Name: time_of_day, dtype: int64\n"
     ]
    }
   ],
   "source": [
    "# time of the day count\n",
    "print('\\033[1m',gobike_clean['time_of_day'].value_counts())"
   ]
  },
  {
   "cell_type": "code",
   "execution_count": 36,
   "metadata": {},
   "outputs": [
    {
     "data": {
      "image/png": "[encoded data removed]",
      "text/plain": [
       "<Figure size 648x432 with 1 Axes>"
      ]
     },
     "metadata": {
      "needs_background": "light"
     },
     "output_type": "display_data"
    }
   ],
   "source": [
    "# bar chart showing time of the day more trips were taken\n",
    "plt.figure(figsize = [9, 6])\n",
    "sb.countplot(data=gobike_clean, x ='time_of_day', color=base_color)\n",
    "plt.title('Trips Start Periods', fontsize=15);"
   ]
  },
  {
   "cell_type": "markdown",
   "metadata": {},
   "source": [
    "* From the bar chart above the highest number of rides occured in the morning and in the evining. Which is considerably reaonable since most people start working between 8-9 a.m in the morning and finish around the hours of 5-6p.m in the evening."
   ]
  },
  {
   "cell_type": "code",
   "execution_count": 37,
   "metadata": {},
   "outputs": [
    {
     "name": "stdout",
     "output_type": "stream",
     "text": [
      "\u001b[1mOldest Rider: 59\n",
      "Youngest Rider: 21\n"
     ]
    }
   ],
   "source": [
    "# To get the max and min of the ages of the riders, remove rows with value as 0 in the age column\n",
    "df_age_clean = gobike_clean.loc[~(gobike_clean['age'] == 0)]\n",
    "# print out the max and min age of the riders\n",
    "print('\\033[1m''Oldest Rider:', df_age_clean['age'].max())\n",
    "print('Youngest Rider:', df_age_clean['age'].min())"
   ]
  },
  {
   "cell_type": "code",
   "execution_count": 38,
   "metadata": {},
   "outputs": [
    {
     "data": {
      "image/png": "[encoded data removed]",
      "text/plain": [
       "<Figure size 1080x432 with 2 Axes>"
      ]
     },
     "metadata": {
      "needs_background": "light"
     },
     "output_type": "display_data"
    }
   ],
   "source": [
    "# ploting a histogram showing the age distribution of riders\n",
    "plt.figure(figsize = [15, 6])\n",
    "\n",
    "# histogram showing the age distribution of users\n",
    "plt.subplot(1,2,1)\n",
    "bins_age= np.arange(0, gobike_clean['age'].max()+3, 3)\n",
    "plt.hist(data=gobike_clean, x='age',bins=bins_age)\n",
    "plt.xlabel('Age', fontsize=10)\n",
    "plt.ylabel('Count', fontsize=10);\n",
    "\n",
    "# bar chart showing the age category that uses the bikes more for trips\n",
    "plt.subplot(1,2,2)\n",
    "sb.countplot(data=gobike_clean, x ='age_category', color=base_color)\n",
    "plt.xlabel('Age Category')\n",
    "plt.ylabel('Count');\n",
    "\n",
    "# plot heading\n",
    "plt.suptitle('Age Distribution of Riders', fontsize=15);"
   ]
  },
  {
   "cell_type": "markdown",
   "metadata": {},
   "source": [
    "* The insights in the charts above indicates that there were more petronage from people that fall in the age bracket 26-35, compare to other age groups in the data."
   ]
  },
  {
   "cell_type": "code",
   "execution_count": 39,
   "metadata": {},
   "outputs": [
    {
     "name": "stdout",
     "output_type": "stream",
     "text": [
      "\u001b[1mDuration mins max: 1409.0\n",
      "Duration mins min: 1.0\n"
     ]
    }
   ],
   "source": [
    "# max and min duration of trips \n",
    "print('\\033[1m''Duration mins max:', gobike_clean['duration_min'].max())\n",
    "print('Duration mins min:', gobike_clean['duration_min'].min())"
   ]
  },
  {
   "cell_type": "code",
   "execution_count": 40,
   "metadata": {},
   "outputs": [
    {
     "data": {
      "image/png": "[encoded data removed]",
      "text/plain": [
       "<Figure size 648x432 with 1 Axes>"
      ]
     },
     "metadata": {
      "needs_background": "light"
     },
     "output_type": "display_data"
    }
   ],
   "source": [
    "# histogram showing the duration distribtion of trips\n",
    "plt.figure(figsize = [9, 6])\n",
    "binz = np.arange(0, 60,1) #limiting the bins on the chart to be 1 hour so the histogram would be clearer\n",
    "plt.hist(data=gobike_clean, x='duration_min', bins=binz);\n",
    "plt.title('Duration of Trips Distribution', fontsize=15)\n",
    "plt.xlabel('Duration In Minutes')\n",
    "plt.ylabel('Count');"
   ]
  },
  {
   "cell_type": "markdown",
   "metadata": {},
   "source": [
    "* The histograms shows that the users mostly emback on short trips with the bike.The number of rides keeps decreesing and duration of trip increases. Which indicates that the higher the trip duration, the lower the number of trips gets. This also indicates that there is a negative relationship between the trip duration and the number of trips."
   ]
  },
  {
   "cell_type": "markdown",
   "metadata": {},
   "source": [
    "### Discuss the distribution(s) of your variable(s) of interest. Were there any unusual points? Did you need to perform any transformations?\n",
    "\n",
    "> The trip_duration variable has some unusual points where trips lasted more than 24 hours, I did some transformation by limiting the bins so that the histogram would be clearer to study.\n",
    "\n",
    "### Of the features you investigated, were there any unusual distributions? Did you perform any operations on the data to tidy, adjust, or change the form of the data? If so, why did you do this?\n",
    "\n",
    "> While investigating the dataset for insights, on the age column which was extracted from the member_birth column, there some unusall from _100 years above_, also noticed the riders above _sixty years_ were also very few. This could have been as a result _data entry errors_. In order to aid my analysis I removed the rows with null values in the column and removed the riders that their ages were above 60. This later resulted to the oldest age being 59 yers."
   ]
  },
  {
   "cell_type": "markdown",
   "metadata": {},
   "source": [
    "## Bivariate Exploration\n",
    "\n",
    "In this section, I investigated relationships between pairs of variables in the data."
   ]
  },
  {
   "cell_type": "code",
   "execution_count": 41,
   "metadata": {},
   "outputs": [
    {
     "data": {
      "image/png": "[encoded data removed]",
      "text/plain": [
       "<Figure size 1080x432 with 2 Axes>"
      ]
     },
     "metadata": {
      "needs_background": "light"
     },
     "output_type": "display_data"
    }
   ],
   "source": [
    "#The Relationship Between Age, (User_type, Gender )\n",
    "plt.figure(figsize = [15, 6])\n",
    "\n",
    "# box plot showing the relationship between the type of users and age\n",
    "plt.subplot(1, 2, 1)\n",
    "sb.boxplot(data=gobike_clean, x='user_type', y='age', color=base_color);\n",
    "plt.ylim(ymin=0)\n",
    "plt.title('User_type/Age');\n",
    "\n",
    "# box plot showing the relationship between the gender and age of users\n",
    "plt.subplot(1, 2, 2)\n",
    "sb.boxplot(data=gobike_clean, x='member_gender', y='age', color=base_color);\n",
    "plt.ylim(ymin=0)\n",
    "plt.title('Gender/Age');\n",
    "\n",
    "# plot heading\n",
    "plt.suptitle('The Relationship Between Age, (User_type, Gender )', fontsize=15);"
   ]
  },
  {
   "cell_type": "markdown",
   "metadata": {},
   "source": [
    "Each of the charts above visualizes the relationship between two variables;\n",
    "* The first boxplot shows the relationship between the type of users and age. If we take a close look at the _whisker_ at the _top_(which represents the oldest), we will notice that there more old __subcriber-user__ than customer-user.\n",
    "\n",
    "* The second boxplot shows the relationship between the gender of users and age. Taking a careful look at the chart we will notice that the __female gender__ has a younger population, considering that it has the _lowest highest age depicted by the top whisker_, lowest age average depicted by the middle line inside the box, of users than the remaining genders specified in the data."
   ]
  },
  {
   "cell_type": "code",
   "execution_count": 42,
   "metadata": {},
   "outputs": [
    {
     "data": {
      "image/png": "[encoded data removed]",
      "text/plain": [
       "<Figure size 648x432 with 1 Axes>"
      ]
     },
     "metadata": {
      "needs_background": "light"
     },
     "output_type": "display_data"
    }
   ],
   "source": [
    "# def function for bivariate plots to be used later in exploration\n",
    "def bi_plot(a, b, c, d, e):\n",
    "    plt.figure(figsize = [a, b])\n",
    "    sb.countplot(data = gobike_clean, x = c, hue = d);\n",
    "    # plot heading\n",
    "    plt.suptitle(e, fontsize=15);\n",
    "\n",
    "# ploting to check the total of each type of users under each gender\n",
    "bi_plot(9, 6, 'member_gender', 'user_type', 'The Relationship Between Gender and User_type')"
   ]
  },
  {
   "cell_type": "markdown",
   "metadata": {},
   "source": [
    "* From the clustered chart above we can see that the male gender uses the bikes more compared to other genders, and it is also clear that the subscribers are more than the customers in every gender recorded in the data."
   ]
  },
  {
   "cell_type": "code",
   "execution_count": 43,
   "metadata": {},
   "outputs": [
    {
     "data": {
      "image/png": "[encoded data removed]",
      "text/plain": [
       "<Figure size 648x432 with 1 Axes>"
      ]
     },
     "metadata": {
      "needs_background": "light"
     },
     "output_type": "display_data"
    }
   ],
   "source": [
    "# ploting to check the total of each time of the day under bike_share_for_all_trip\n",
    "bi_plot(9, 6, 'time_of_day', 'bike_share_for_all_trip', 'The Relationship Between Time_of_day and Bike_share_for_all_trip')"
   ]
  },
  {
   "cell_type": "markdown",
   "metadata": {},
   "source": [
    "* From the chart above we can see that there are less bike share in the evening in that the primary aim of the riders at this particular period of time will be to get to their destination as the night is drawing near.\n"
   ]
  },
  {
   "cell_type": "code",
   "execution_count": 44,
   "metadata": {},
   "outputs": [
    {
     "data": {
      "image/png": "[encoded data removed]",
      "text/plain": [
       "<Figure size 648x432 with 1 Axes>"
      ]
     },
     "metadata": {
      "needs_background": "light"
     },
     "output_type": "display_data"
    }
   ],
   "source": [
    "# ploting to check the total of each user type under bike_share_for_all_trip\n",
    "bi_plot(9, 6, 'user_type', 'bike_share_for_all_trip', 'The Relationship Between User_type and Bike_share_for_all_trip')"
   ]
  },
  {
   "cell_type": "code",
   "execution_count": 45,
   "metadata": {
    "scrolled": false
   },
   "outputs": [
    {
     "data": {
      "image/png": "[encoded data removed]",
      "text/plain": [
       "<Figure size 648x432 with 1 Axes>"
      ]
     },
     "metadata": {
      "needs_background": "light"
     },
     "output_type": "display_data"
    }
   ],
   "source": [
    "# ploting to check the total of each weekday under bike_share_for_all_trip\n",
    "bi_plot(9, 6, 'start_day', 'bike_share_for_all_trip', 'The Relationship Between Day and Bike_share_for_all_trip')"
   ]
  },
  {
   "cell_type": "markdown",
   "metadata": {},
   "source": [
    "* There are lesser no-bike-share for customer compared to subscriber but the population of each of these types is major determinat of the result. When we look futher we will also notice that there are no available bike share for customer while there is for subcribers, this can also as a result of the value being very small.\n",
    "* From the chart above we can confirm that subcribers can get to share bike rides compare to customers."
   ]
  },
  {
   "cell_type": "markdown",
   "metadata": {},
   "source": [
    "### Talk about some of the relationships you observed in this part of the investigation. How did the feature(s) of interest vary with other features in the dataset?\n",
    "\n",
    "* There are some outliers in the ages of all the genders considered in this data.\n",
    "\n",
    "* There are outliers in the bike share status of the Customer user type\n",
    "\n",
    "### Did you observe any interesting relationships between the other features (not the main feature(s) of interest)?\n",
    "\n",
    "* The female gender has a younger population, considering that it has the lowest highest age depicted by the top whisker, lowest age average depicted by the middle line inside the box, of users than the remaining genders specified in the data.\n",
    "\n",
    "* There are more old subcriber-user than customer-user.\n",
    "\n",
    "* Subcribers can get access to share bike rides compare to customers."
   ]
  },
  {
   "cell_type": "markdown",
   "metadata": {},
   "source": [
    "## Multivariate Exploration\n",
    "\n",
    "> Creating plot of three or more variables to investigate the data even\n",
    "further."
   ]
  },
  {
   "cell_type": "code",
   "execution_count": 46,
   "metadata": {},
   "outputs": [
    {
     "data": {
      "image/png": "[encoded data removed]",
      "text/plain": [
       "<Figure size 1080x648 with 1 Axes>"
      ]
     },
     "metadata": {
      "needs_background": "light"
     },
     "output_type": "display_data"
    }
   ],
   "source": [
    "# futher investigation on the relationship between day of the week, duration and period of the day\n",
    "plt.figure(figsize = [15,9])\n",
    "ax = sb.barplot(data = gobike_clean, x = 'start_day', y = 'duration_min', hue = 'time_of_day', estimator = sum, ci=None);\n",
    "ax.legend(loc = 'upper right', ncol = 3, framealpha = 1, title = 'time_of_day');\n",
    "\n",
    "# plot heading\n",
    "plt.suptitle('Relationship Between Day of The Week, Duration and Period of Day', fontsize=15);"
   ]
  },
  {
   "cell_type": "code",
   "execution_count": 47,
   "metadata": {
    "scrolled": false
   },
   "outputs": [
    {
     "data": {
      "image/png": "[encoded data removed]",
      "text/plain": [
       "<Figure size 1080x648 with 1 Axes>"
      ]
     },
     "metadata": {
      "needs_background": "light"
     },
     "output_type": "display_data"
    }
   ],
   "source": [
    "# futher investigation on the relationship between period of the day, duration and bike share status\n",
    "plt.figure(figsize = [15,9])\n",
    "ax = sb.barplot(data = gobike_clean, x = 'time_of_day', y = 'duration_min', hue = 'bike_share_for_all_trip');\n",
    "ax.legend(loc = 'upper right', ncol = 3, framealpha = 1, title = 'bike_share_for_all_trip');\n",
    "\n",
    "# plot heading\n",
    "plt.suptitle('Relationship Between Time_of_day, Duration and Bike Share Status', fontsize=15);"
   ]
  },
  {
   "cell_type": "markdown",
   "metadata": {},
   "source": [
    "* We have a peak for no share bike for all trip at late night and we can understand this because if you decide to take a bike late night, your main goal here is to reach your destination in minimum so the probability for bike sharing decrease  and the average distance per trip will increase.\n",
    "* Also we can notice that early morning which is the time for the employee and students to go to thier companies and school, the time of the trip increase.\n",
    "* And at the afternoon which the main time for students to finish school for the day also the distance of the trip increase."
   ]
  },
  {
   "cell_type": "markdown",
   "metadata": {},
   "source": [
    "### Were there any interesting or surprising interactions between features?\n",
    "\n",
    ">  Early morning which is the time for the employee and students to go to thier companies and school, the time of the trip increase. And at afternoon which the main time students finish from school for the day also the distance of the trip increase."
   ]
  },
  {
   "cell_type": "markdown",
   "metadata": {},
   "source": [
    "## Conclusions\n",
    "For this exploratory analysis, my area of interest were the type of user, time of the day and gender information for relationship insights with the bike trips and share.\n",
    "\n",
    "In the course of exploring the variables considered in this analysis, from the beginning some basic insights were dicovered. One of these is that there are more suscriber type of user and the population of users in the data was dominated by the male gender with 74.3% of the total population. While exploring with one variable it was also dicovered that trips with this means were mostly embaked on during working days with significant reduction on weekends and also this trips peaked in the morning and evening.\n",
    "\n",
    "In futher investigation using two variables to gather more enlightening insights from the data, we could see a trend of having outliers while checking the relationship between the age of users and the type of users. From the exploration of these two variables it was discovered riders under the customer type have younger age distribution compared to the subscriber type though there was no significant difference in the age distribution average. Also while exploring the age and gender variables it was shown that the female gender have a younger age distribution average than the rest of the genders.\n",
    "\n",
    "Finally in exploration of this data a three variable analysis was carried out on time_of_day, duration_min and bike_share_for_all_trip. This visualization showed that morning hours of the day which is the time in which employees and students to go to thier companies and school, the bike share and duration of the trip increases. And in afternoon which is the main time students finish from school for the day also the distance of the trip increase.\n",
    "\n",
    "One of the challenges face while carrying this analysis, was getting the meaning the some of the variables in the dataset.\n"
   ]
  }
 ],
 "metadata": {
  "kernelspec": {
   "display_name": "Python 3",
   "language": "python",
   "name": "python3"
  },
  "language_info": {
   "codemirror_mode": {
    "name": "ipython",
    "version": 3
   },
   "file_extension": ".py",
   "mimetype": "text/x-python",
   "name": "python",
   "nbconvert_exporter": "python",
   "pygments_lexer": "ipython3",
   "version": "3.8.8"
  }
 },
 "nbformat": 4,
 "nbformat_minor": 2
}
